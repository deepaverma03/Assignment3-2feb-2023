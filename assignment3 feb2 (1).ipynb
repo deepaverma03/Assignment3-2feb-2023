{
 "cells": [
  {
   "cell_type": "code",
   "execution_count": 1,
   "id": "8e8fd25b-4cba-478d-b39d-09954ed44c21",
   "metadata": {},
   "outputs": [],
   "source": [
    "#Assignment3    feb2 2023"
   ]
  },
  {
   "cell_type": "markdown",
   "id": "0e4d7136-e92a-45bc-bfc9-51eb2adbe25e",
   "metadata": {},
   "source": [
    "Q1.Explain with an example each when to use a for loop and when to use a while loop?"
   ]
  },
  {
   "cell_type": "markdown",
   "id": "32c67f65-2454-4d62-92c6-2b57c610de5d",
   "metadata": {},
   "source": [
    "A1.FOR LOOP\n",
    "The for loop is used when we already know the number of iterations, which means when we know how many times a statement has to be executed.\n",
    "for loop exp:"
   ]
  },
  {
   "cell_type": "code",
   "execution_count": 2,
   "id": "0c9452a5-8f4d-44f1-8c09-996ec4346882",
   "metadata": {},
   "outputs": [
    {
     "name": "stdout",
     "output_type": "stream",
     "text": [
      "sudh\n",
      "kumar\n",
      "krish\n",
      "naik\n"
     ]
    }
   ],
   "source": [
    "l1 =[\"sudh\",\"kumar\",\"krish\",\"naik\"]\n",
    "for i in l1:\n",
    "    print(i)\n"
   ]
  },
  {
   "cell_type": "markdown",
   "id": "5a24fe33-a8ba-4cb5-8852-1f519d8982cd",
   "metadata": {},
   "source": [
    "WHILE LOOP\n",
    " A \"while\" loop is used when the number of iterations is unknown. The statement repeats itself till the boolean value becomes false. \n",
    "While loop exp:"
   ]
  },
  {
   "cell_type": "code",
   "execution_count": 3,
   "id": "c05b676b-1f0d-47d4-b07a-dacb0429e07c",
   "metadata": {},
   "outputs": [
    {
     "name": "stdout",
     "output_type": "stream",
     "text": [
      "1\n",
      "2\n",
      "3\n",
      "4\n",
      "5\n",
      "6\n",
      "7\n",
      "8\n",
      "9\n",
      "10\n"
     ]
    }
   ],
   "source": [
    "a=1\n",
    "while a<=10:\n",
    "    print(a)\n",
    "    a=a+1"
   ]
  },
  {
   "cell_type": "markdown",
   "id": "03e0559e-59bc-4d27-9492-4816fda8ad34",
   "metadata": {},
   "source": [
    "Q2.Write a pythan program to print the sum and product of the first 10 natural number using for and while loop?"
   ]
  },
  {
   "cell_type": "code",
   "execution_count": 1,
   "id": "d002c78d-8c63-47e9-b506-66026cbcf469",
   "metadata": {},
   "outputs": [
    {
     "name": "stdout",
     "output_type": "stream",
     "text": [
      "sum of first 10 natural nmumber using for loop: 1\n",
      "product of first 10 natural number using for loop: 1\n",
      "sum of first 10 natural nmumber using for loop: 3\n",
      "product of first 10 natural number using for loop: 2\n",
      "sum of first 10 natural nmumber using for loop: 6\n",
      "product of first 10 natural number using for loop: 6\n",
      "sum of first 10 natural nmumber using for loop: 10\n",
      "product of first 10 natural number using for loop: 24\n",
      "sum of first 10 natural nmumber using for loop: 15\n",
      "product of first 10 natural number using for loop: 120\n",
      "sum of first 10 natural nmumber using for loop: 21\n",
      "product of first 10 natural number using for loop: 720\n",
      "sum of first 10 natural nmumber using for loop: 28\n",
      "product of first 10 natural number using for loop: 5040\n",
      "sum of first 10 natural nmumber using for loop: 36\n",
      "product of first 10 natural number using for loop: 40320\n",
      "sum of first 10 natural nmumber using for loop: 45\n",
      "product of first 10 natural number using for loop: 362880\n",
      "sum of first 10 natural nmumber using for loop: 55\n",
      "product of first 10 natural number using for loop: 3628800\n"
     ]
    }
   ],
   "source": [
    "#for loop for sum of first 10 natural numbers\n",
    "sum=0\n",
    "product=1\n",
    "for i in range(1,11):\n",
    "    sum=sum+i\n",
    "    product=product*i\n",
    "    print (\"sum of first 10 natural nmumber using for loop:\",sum)\n",
    "    print(\"product of first 10 natural number using for loop:\",product)"
   ]
  },
  {
   "cell_type": "code",
   "execution_count": 2,
   "id": "3cac1df3-421d-49f7-ba74-771065a25bbf",
   "metadata": {},
   "outputs": [
    {
     "name": "stdout",
     "output_type": "stream",
     "text": [
      "sum of first 10 natural nmumber using while loop: 1\n",
      "product of first 10 natural number using while loop: 1\n",
      "sum of first 10 natural nmumber using while loop: 3\n",
      "product of first 10 natural number using while loop: 2\n",
      "sum of first 10 natural nmumber using while loop: 6\n",
      "product of first 10 natural number using while loop: 6\n",
      "sum of first 10 natural nmumber using while loop: 10\n",
      "product of first 10 natural number using while loop: 24\n",
      "sum of first 10 natural nmumber using while loop: 15\n",
      "product of first 10 natural number using while loop: 120\n",
      "sum of first 10 natural nmumber using while loop: 21\n",
      "product of first 10 natural number using while loop: 720\n",
      "sum of first 10 natural nmumber using while loop: 28\n",
      "product of first 10 natural number using while loop: 5040\n",
      "sum of first 10 natural nmumber using while loop: 36\n",
      "product of first 10 natural number using while loop: 40320\n",
      "sum of first 10 natural nmumber using while loop: 45\n",
      "product of first 10 natural number using while loop: 362880\n",
      "sum of first 10 natural nmumber using while loop: 55\n",
      "product of first 10 natural number using while loop: 3628800\n"
     ]
    }
   ],
   "source": [
    "#while loop for sum and product  of first 10 natural number\n",
    "\n",
    "sum=0\n",
    "product =1\n",
    "i=1\n",
    "while i<=10:\n",
    "    sum=sum+i\n",
    "    product=product*i\n",
    "    i=i+1\n",
    "    print (\"sum of first 10 natural nmumber using while loop:\",sum)\n",
    "    print(\"product of first 10 natural number using while loop:\",product)"
   ]
  },
  {
   "cell_type": "markdown",
   "id": "47936a91-8790-44fa-af8a-11e010c32c94",
   "metadata": {},
   "source": [
    "Q3. Create a python program to compute the electricity bill for a household.\n",
    "The per-unit charges in rupees are as follows: For the first 100 units, the user will be charged Rs. 4.5 per unit, for the next 100 units, the user will be charged Rs. 6 per unit, and for the next 100 units, the user will be charged Rs. 10 per unit, After 300 units and above the user will be charged Rs. 20 per unit.You are required to take the units of electricity consumed in a month from the user as input.Your program must pass this test case: when the unit of electricity consumed by the user in a month is\n",
    "310, the total electricity bill should be 2250."
   ]
  },
  {
   "cell_type": "code",
   "execution_count": 3,
   "id": "2698e7a2-e245-4fa2-ac74-4c53fdd4cd80",
   "metadata": {},
   "outputs": [
    {
     "name": "stdin",
     "output_type": "stream",
     "text": [
      "Enter the units consumed:  310\n"
     ]
    },
    {
     "name": "stdout",
     "output_type": "stream",
     "text": [
      "Electricity bill: Rs. 2250.0\n"
     ]
    }
   ],
   "source": [
    "units = int(input(\"Enter the units consumed: \"))\n",
    "\n",
    "if units <= 100:\n",
    "    bill = units * 4.5\n",
    "elif units <= 200:\n",
    "    bill = (100 * 4.5) + ((units - 100) * 6)\n",
    "elif units <= 300:\n",
    "    bill = (100 * 4.5) + (100 * 6) + ((units - 200) * 10)\n",
    "else:\n",
    "    bill = (100 * 4.5) + (100 * 6) + (100 * 10) + ((units - 300) * 20)\n",
    "\n",
    "print(\"Electricity bill: Rs.\", bill)"
   ]
  },
  {
   "cell_type": "markdown",
   "id": "c1a930fa-b2e8-40cd-ac18-274b97d3b856",
   "metadata": {},
   "source": [
    "Q4. Create a list of numbers from 1 to 100. Use for loop and while loop to calculate the cube of each\n",
    "number and if the cube of that number is divisible by 4 or 5 then append that number in a list and print\n",
    "that list."
   ]
  },
  {
   "cell_type": "code",
   "execution_count": 4,
   "id": "09d0eca8-2553-4d2b-935b-0b601f2a008c",
   "metadata": {},
   "outputs": [
    {
     "name": "stdout",
     "output_type": "stream",
     "text": [
      "Numbers whose cubes are divisible by 4 or 5: [2, 4, 5, 6, 8, 10, 12, 14, 15, 16, 18, 20, 22, 24, 25, 26, 28, 30, 32, 34, 35, 36, 38, 40, 42, 44, 45, 46, 48, 50, 52, 54, 55, 56, 58, 60, 62, 64, 65, 66, 68, 70, 72, 74, 75, 76, 78, 80, 82, 84, 85, 86, 88, 90, 92, 94, 95, 96, 98, 100]\n"
     ]
    }
   ],
   "source": [
    "#USING WHILE LOOP\n",
    "num_list = list(range(1, 101))\n",
    "cubes_list = []\n",
    "i = 0\n",
    "while i < len(num_list):\n",
    "    num = num_list[i]\n",
    "    cube = num ** 3\n",
    "    if cube % 4 == 0 or cube % 5 == 0:\n",
    "        cubes_list.append(num)\n",
    "    i += 1\n",
    "\n",
    "print(\"Numbers whose cubes are divisible by 4 or 5:\", cubes_list)"
   ]
  },
  {
   "cell_type": "code",
   "execution_count": 5,
   "id": "8b59debd-e130-4255-a1d5-93f7f6ef6097",
   "metadata": {},
   "outputs": [
    {
     "name": "stdout",
     "output_type": "stream",
     "text": [
      "Numbers whose cubes are divisible by 4 or 5: [2, 4, 5, 6, 8, 10, 12, 14, 15, 16, 18, 20, 22, 24, 25, 26, 28, 30, 32, 34, 35, 36, 38, 40, 42, 44, 45, 46, 48, 50, 52, 54, 55, 56, 58, 60, 62, 64, 65, 66, 68, 70, 72, 74, 75, 76, 78, 80, 82, 84, 85, 86, 88, 90, 92, 94, 95, 96, 98, 100]\n"
     ]
    }
   ],
   "source": [
    "#USING FOR LOOP\n",
    "numbers = list(range(1, 101))\n",
    "cubes_list = []\n",
    "\n",
    "for num in numbers:\n",
    "    cube = num ** 3\n",
    "\n",
    "    if cube % 4 == 0 or cube % 5 == 0:\n",
    "        cubes_list.append(num)\n",
    "\n",
    "print(\"Numbers whose cubes are divisible by 4 or 5:\",cubes_list)"
   ]
  },
  {
   "cell_type": "markdown",
   "id": "a9210c6b-1e8f-4327-8634-b29a657cf63a",
   "metadata": {},
   "source": [
    "Q5.Write a prgram to filter count the number of vowels in the below given string.\n",
    "string=\" I want to become a data scientist\""
   ]
  },
  {
   "cell_type": "code",
   "execution_count": 11,
   "id": "e3a5b48b-ec60-4f4c-8f8f-22ec469fbcab",
   "metadata": {},
   "outputs": [
    {
     "name": "stdin",
     "output_type": "stream",
     "text": [
      "Enter string: I want to become a data scientist\n"
     ]
    },
    {
     "name": "stdout",
     "output_type": "stream",
     "text": [
      "Number of vowels are:\n",
      "12\n"
     ]
    }
   ],
   "source": [
    "string=str(input(\"Enter string:\"))\n",
    "vowels=0\n",
    "for i in string:\n",
    "      if(i=='a' or i=='e' or i=='i' or i=='o' or i=='u' or i=='A' or i=='E' or i=='I' or i=='O' or i=='U'):\n",
    "            vowels=vowels+1\n",
    "print(\"Number of vowels are:\")\n",
    "print(vowels)"
   ]
  },
  {
   "cell_type": "code",
   "execution_count": null,
   "id": "8e317ce8-d921-4cad-810f-695fa75f8fe2",
   "metadata": {},
   "outputs": [],
   "source": []
  }
 ],
 "metadata": {
  "kernelspec": {
   "display_name": "Python 3 (ipykernel)",
   "language": "python",
   "name": "python3"
  },
  "language_info": {
   "codemirror_mode": {
    "name": "ipython",
    "version": 3
   },
   "file_extension": ".py",
   "mimetype": "text/x-python",
   "name": "python",
   "nbconvert_exporter": "python",
   "pygments_lexer": "ipython3",
   "version": "3.10.8"
  }
 },
 "nbformat": 4,
 "nbformat_minor": 5
}
